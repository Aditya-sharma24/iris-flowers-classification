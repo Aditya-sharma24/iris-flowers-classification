{
 "cells": [
  {
   "cell_type": "code",
   "execution_count": null,
   "metadata": {
    "id": "ub-amii4jnvk"
   },
   "outputs": [],
   "source": [
    "import pandas as pd\n",
    "import matplotlib.pyplot as plt\n",
    "import seaborn as sns\n",
    "from sklearn.preprocessing import LabelEncoder,StandardScaler\n",
    "from sklearn.tree import DecisionTreeClassifier,plot_tree\n",
    "from sklearn.neighbors import KNeighborsClassifier\n",
    "from sklearn.svm import SVC\n",
    "from sklearn.linear_model import LogisticRegression\n",
    "from sklearn.model_selection import train_test_split\n",
    "from sklearn.metrics import accuracy_score\n",
    "import warnings\n",
    "warnings.filterwarnings(\"ignore\")"
   ]
  },
  {
   "cell_type": "code",
   "execution_count": null,
   "metadata": {
    "colab": {
     "base_uri": "https://localhost:8080/",
     "height": 424
    },
    "id": "QymQGdwIo1b5",
    "outputId": "cff8494b-df3c-4cd7-ca49-c7d43c923e40"
   },
   "outputs": [],
   "source": [
    "df=pd.read_csv(\"iris.csv\")\n",
    "df"
   ]
  },
  {
   "cell_type": "code",
   "execution_count": null,
   "metadata": {
    "id": "krwMNHKRo-qs"
   },
   "outputs": [],
   "source": [
    "df.drop(\"Id\",axis=1,inplace=True)"
   ]
  },
  {
   "cell_type": "code",
   "execution_count": null,
   "metadata": {
    "colab": {
     "base_uri": "https://localhost:8080/",
     "height": 424
    },
    "id": "oVeu543XpP7m",
    "outputId": "05577f6e-dac6-4ae2-c5db-99ca7b8e4ede"
   },
   "outputs": [],
   "source": [
    "df"
   ]
  },
  {
   "cell_type": "code",
   "execution_count": null,
   "metadata": {
    "colab": {
     "base_uri": "https://localhost:8080/"
    },
    "id": "QTpamKzBpiHR",
    "outputId": "11b2891a-f624-4212-ac38-ef938e0ca4ed"
   },
   "outputs": [],
   "source": [
    "df.isnull().any()"
   ]
  },
  {
   "cell_type": "code",
   "execution_count": null,
   "metadata": {
    "colab": {
     "base_uri": "https://localhost:8080/"
    },
    "id": "btFlN1Fuplzg",
    "outputId": "a872935f-bab0-4888-b229-f3e751640b0e"
   },
   "outputs": [],
   "source": [
    "df.info()"
   ]
  },
  {
   "cell_type": "code",
   "execution_count": null,
   "metadata": {
    "colab": {
     "base_uri": "https://localhost:8080/",
     "height": 300
    },
    "id": "oD589wPoppV6",
    "outputId": "3cbbd85c-6c17-4e6e-e1d9-3bac3eb127bb"
   },
   "outputs": [],
   "source": [
    "df.describe()"
   ]
  },
  {
   "cell_type": "code",
   "execution_count": null,
   "metadata": {
    "colab": {
     "base_uri": "https://localhost:8080/"
    },
    "id": "-TdYDsOtpryU",
    "outputId": "93cb174b-be2a-469d-aab7-3c805f49df1d"
   },
   "outputs": [],
   "source": [
    "df[\"Species\"].value_counts()"
   ]
  },
  {
   "cell_type": "code",
   "execution_count": null,
   "metadata": {
    "colab": {
     "base_uri": "https://localhost:8080/",
     "height": 1000
    },
    "id": "zC8TW0Slp3lQ",
    "outputId": "0bdc56f4-0981-4bd7-baa8-41fa45f343b7"
   },
   "outputs": [],
   "source": [
    "sns.pairplot(df,hue=\"Species\",markers=\"+\")"
   ]
  },
  {
   "cell_type": "code",
   "execution_count": null,
   "metadata": {
    "colab": {
     "base_uri": "https://localhost:8080/",
     "height": 665
    },
    "id": "8ID0WOCrqJW0",
    "outputId": "c824a27b-e888-4bd4-accd-58f2127e3bd9"
   },
   "outputs": [],
   "source": [
    "df[[\"SepalLengthCm\",\"SepalWidthCm\",\"PetalLengthCm\",\"PetalWidthCm\"]].hist(layout=(5,2),figsize=(10,16))\n",
    "plt.tight_layout()\n",
    "plt.show()"
   ]
  },
  {
   "cell_type": "code",
   "execution_count": null,
   "metadata": {
    "colab": {
     "base_uri": "https://localhost:8080/",
     "height": 469
    },
    "id": "Xjn58tTXsWZR",
    "outputId": "8f402127-7b3d-4d5f-84fd-b60d76d18fec"
   },
   "outputs": [],
   "source": [
    "sns.scatterplot(x=df[\"SepalLengthCm\"],y=df[\"SepalWidthCm\"],hue=df[\"Species\"])"
   ]
  },
  {
   "cell_type": "code",
   "execution_count": null,
   "metadata": {
    "colab": {
     "base_uri": "https://localhost:8080/",
     "height": 466
    },
    "id": "sbV73-FIvz4T",
    "outputId": "0e3fd990-f901-45b7-f30e-6bc2bcc3c78e"
   },
   "outputs": [],
   "source": [
    "sns.scatterplot(x=df[\"PetalLengthCm\"],y=df[\"PetalWidthCm\"],hue=df[\"Species\"])"
   ]
  },
  {
   "cell_type": "code",
   "execution_count": null,
   "metadata": {
    "colab": {
     "base_uri": "https://localhost:8080/",
     "height": 230
    },
    "id": "MFoABw38w_Sw",
    "outputId": "66a4b201-65b8-41b6-dd41-0707ebeaef49"
   },
   "outputs": [],
   "source": [
    "df.corr()"
   ]
  },
  {
   "cell_type": "code",
   "execution_count": null,
   "metadata": {
    "colab": {
     "base_uri": "https://localhost:8080/"
    },
    "id": "qI53a0kzxJN0",
    "outputId": "319f4adf-4963-4901-d31a-2b1bac74024f"
   },
   "outputs": [],
   "source": [
    "cor=df.corr()"
   ]
  },
  {
   "cell_type": "code",
   "execution_count": null,
   "metadata": {
    "colab": {
     "base_uri": "https://localhost:8080/",
     "height": 548
    },
    "id": "dVb65yOlxNk_",
    "outputId": "7832d74c-8b35-4b5e-ff5a-4e4837f2fd6e"
   },
   "outputs": [],
   "source": [
    "sns.heatmap(cor,annot=True)"
   ]
  },
  {
   "cell_type": "code",
   "execution_count": null,
   "metadata": {
    "id": "Bq1rctcoxZvD"
   },
   "outputs": [],
   "source": [
    "lb=LabelEncoder()\n",
    "df[\"Species\"]=lb.fit_transform(df[\"Species\"])"
   ]
  },
  {
   "cell_type": "code",
   "execution_count": null,
   "metadata": {
    "id": "I8lSssdFxtSf"
   },
   "outputs": [],
   "source": [
    "x=df.drop(\"Species\",axis=1)\n",
    "y=df[\"Species\"]\n",
    "x_train,x_test,y_train,y_test=train_test_split(x,y,test_size=0.3,random_state=50)"
   ]
  },
  {
   "cell_type": "code",
   "execution_count": null,
   "metadata": {
    "id": "2P-lS1Rtxvmr"
   },
   "outputs": [],
   "source": [
    "Model1=LogisticRegression()\n",
    "Model1.fit(x_train,y_train)"
   ]
  },
  {
   "cell_type": "code",
   "execution_count": null,
   "metadata": {},
   "outputs": [],
   "source": [
    "pred1=Model1.predict(x_test)\n",
    "acc_lr=round(accuracy_score(y_test,pred1),3)\n",
    "print(\"Accuracy\",(acc_lr))"
   ]
  },
  {
   "cell_type": "code",
   "execution_count": null,
   "metadata": {},
   "outputs": [],
   "source": [
    "Model2=KNeighborsClassifier()\n",
    "Model2.fit(x_train,y_train)"
   ]
  },
  {
   "cell_type": "code",
   "execution_count": null,
   "metadata": {},
   "outputs": [],
   "source": [
    "pred2=Model2.predict(x_test)\n",
    "acc_knn=round(accuracy_score(y_test,pred2),3)\n",
    "print(\"Accuracy\",(acc_knn))"
   ]
  },
  {
   "cell_type": "code",
   "execution_count": null,
   "metadata": {},
   "outputs": [],
   "source": [
    "Model3=DecisionTreeClassifier(max_depth=3,random_state=10)\n",
    "Model3.fit(x_train,y_train)"
   ]
  },
  {
   "cell_type": "code",
   "execution_count": null,
   "metadata": {},
   "outputs": [],
   "source": [
    "Model3.classes_"
   ]
  },
  {
   "cell_type": "code",
   "execution_count": null,
   "metadata": {},
   "outputs": [],
   "source": [
    "plot_tree(Model3,class_names=df.columns,rounded=True,filled=True,max_depth=3)"
   ]
  },
  {
   "cell_type": "code",
   "execution_count": null,
   "metadata": {},
   "outputs": [],
   "source": [
    "pred3=Model3.predict(x_test)\n",
    "acc_DT=round(accuracy_score(y_test,pred3),3)\n",
    "print(\"Accuracy\",(acc_DT))"
   ]
  },
  {
   "cell_type": "code",
   "execution_count": null,
   "metadata": {},
   "outputs": [],
   "source": [
    "Model4=SVC(kernel=\"linear\",random_state=16)\n",
    "Model4.fit(x_train,y_train)"
   ]
  },
  {
   "cell_type": "code",
   "execution_count": null,
   "metadata": {},
   "outputs": [],
   "source": [
    "pred4=Model4.predict(x_test)\n",
    "acc_svm=round(accuracy_score(y_test,pred4),3)\n",
    "print(\"Accuracy\",(acc_svm))"
   ]
  },
  {
   "cell_type": "code",
   "execution_count": null,
   "metadata": {},
   "outputs": [],
   "source": [
    "results=pd.DataFrame({\"MODEL\":[\"LogisticRegressionCV\",\"KNN\",\"DecisionTree\",\"SVM\"],\n",
    "                     \"ACCURACY\":[acc_lr,acc_knn,acc_DT,acc_svm]})"
   ]
  },
  {
   "cell_type": "code",
   "execution_count": null,
   "metadata": {},
   "outputs": [],
   "source": [
    "results"
   ]
  },
  {
   "cell_type": "code",
   "execution_count": null,
   "metadata": {},
   "outputs": [],
   "source": [
    "results.plot(kind=\"barh\",x=\"MODEL\",y=\"ACCURACY\",color=[\"red\",\"blue\",\"yellow\",\"orange\"],xlabel=\"Accuracy\",legend=False)"
   ]
  }
 ],
 "metadata": {
  "colab": {
   "provenance": []
  },
  "kernelspec": {
   "display_name": "Python 3 (ipykernel)",
   "language": "python",
   "name": "python3"
  },
  "language_info": {
   "codemirror_mode": {
    "name": "ipython",
    "version": 3
   },
   "file_extension": ".py",
   "mimetype": "text/x-python",
   "name": "python",
   "nbconvert_exporter": "python",
   "pygments_lexer": "ipython3",
   "version": "3.11.5"
  }
 },
 "nbformat": 4,
 "nbformat_minor": 1
}
